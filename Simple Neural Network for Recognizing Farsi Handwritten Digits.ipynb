{
 "cells": [
  {
   "cell_type": "code",
   "execution_count": 1,
   "metadata": {},
   "outputs": [],
   "source": [
    "%reload_ext autoreload\n",
    "%autoreload 2\n",
    "%matplotlib inline\n"
   ]
  },
  {
   "cell_type": "code",
   "execution_count": 68,
   "metadata": {},
   "outputs": [],
   "source": [
    "import numpy as np\n",
    "np.random.seed(42)"
   ]
  },
  {
   "cell_type": "code",
   "execution_count": 2,
   "metadata": {},
   "outputs": [],
   "source": [
    "import scipy.io\n",
    "import numpy as np\n",
    "import matplotlib.pyplot as plt\n",
    "import matplotlib\n",
    "import cv2"
   ]
  },
  {
   "cell_type": "code",
   "execution_count": 39,
   "metadata": {},
   "outputs": [],
   "source": []
  },
  {
   "cell_type": "code",
   "execution_count": 4,
   "metadata": {},
   "outputs": [
    {
     "data": {
      "text/plain": [
       "dict"
      ]
     },
     "execution_count": 4,
     "metadata": {},
     "output_type": "execute_result"
    }
   ],
   "source": [
    "hoda = scipy.io.loadmat('data\\\\Data_hoda_full.mat')\n",
    "type(hoda)"
   ]
  },
  {
   "cell_type": "code",
   "execution_count": 6,
   "metadata": {},
   "outputs": [
    {
     "name": "stdout",
     "output_type": "stream",
     "text": [
      "dict_keys(['__header__', '__version__', '__globals__', 'Data', 'labels'])\n"
     ]
    }
   ],
   "source": [
    "print(hoda.keys())"
   ]
  },
  {
   "cell_type": "code",
   "execution_count": 9,
   "metadata": {},
   "outputs": [
    {
     "name": "stdout",
     "output_type": "stream",
     "text": [
      "<class 'numpy.ndarray'>\n"
     ]
    }
   ],
   "source": [
    "print(type(hoda['Data']))"
   ]
  },
  {
   "cell_type": "code",
   "execution_count": 8,
   "metadata": {},
   "outputs": [
    {
     "name": "stdout",
     "output_type": "stream",
     "text": [
      "(60000, 1)\n"
     ]
    }
   ],
   "source": [
    "print(hoda['Data'].shape)"
   ]
  },
  {
   "cell_type": "code",
   "execution_count": 10,
   "metadata": {},
   "outputs": [
    {
     "name": "stdout",
     "output_type": "stream",
     "text": [
      "<class 'numpy.ndarray'>\n"
     ]
    }
   ],
   "source": [
    "print(type(hoda['labels']))\n",
    "\n"
   ]
  },
  {
   "cell_type": "code",
   "execution_count": 11,
   "metadata": {},
   "outputs": [
    {
     "name": "stdout",
     "output_type": "stream",
     "text": [
      "(60000, 1)\n"
     ]
    }
   ],
   "source": [
    "print(hoda['labels'].shape)"
   ]
  },
  {
   "cell_type": "code",
   "execution_count": 14,
   "metadata": {},
   "outputs": [
    {
     "name": "stdout",
     "output_type": "stream",
     "text": [
      "(60000,)\n",
      "(60000,)\n"
     ]
    }
   ],
   "source": [
    "data= hoda['Data'].reshape(-1)\n",
    "print(data.shape)\n",
    "\n",
    "labels = hoda['labels'].reshape(-1)\n",
    "print(labels .shape)\n"
   ]
  },
  {
   "cell_type": "code",
   "execution_count": 16,
   "metadata": {},
   "outputs": [
    {
     "data": {
      "text/plain": [
       "(20, 21)"
      ]
     },
     "execution_count": 16,
     "metadata": {},
     "output_type": "execute_result"
    }
   ],
   "source": [
    "pic1_data = data[1]\n",
    "pic1_label = labels[1]\n",
    "pic1_data.shape\n",
    "\n"
   ]
  },
  {
   "cell_type": "code",
   "execution_count": 18,
   "metadata": {},
   "outputs": [
    {
     "data": {
      "image/png": "[encoded data removed]",
      "text/plain": [
       "<matplotlib.figure.Figure at 0x1f45e49e5c0>"
      ]
     },
     "metadata": {},
     "output_type": "display_data"
    },
    {
     "name": "stdout",
     "output_type": "stream",
     "text": [
      "5\n"
     ]
    }
   ],
   "source": [
    "plt.figure(figsize = (5,5) )\n",
    "plt.axis('off')\n",
    "plt.imshow(pic1_data,cmap= matplotlib.cm.Greys)\n",
    "plt.show()\n"
   ]
  },
  {
   "cell_type": "code",
   "execution_count": 19,
   "metadata": {},
   "outputs": [
    {
     "name": "stdout",
     "output_type": "stream",
     "text": [
      "5\n"
     ]
    }
   ],
   "source": [
    "print(pic1_label)"
   ]
  },
  {
   "cell_type": "code",
   "execution_count": 20,
   "metadata": {},
   "outputs": [
    {
     "name": "stdout",
     "output_type": "stream",
     "text": [
      "(20, 21)\n",
      "(10, 15)\n",
      "(36, 17)\n",
      "(36, 28)\n",
      "(12, 14)\n",
      "(26, 27)\n",
      "(27, 28)\n",
      "(13, 19)\n",
      "(27, 20)\n"
     ]
    }
   ],
   "source": [
    "for i in range(1,10):\n",
    "    print(data[i].shape)"
   ]
  },
  {
   "cell_type": "code",
   "execution_count": 27,
   "metadata": {},
   "outputs": [],
   "source": [
    "data_resized = np.array([cv2.resize(img, dsize=(5, 5)) for img in data])"
   ]
  },
  {
   "cell_type": "code",
   "execution_count": 22,
   "metadata": {},
   "outputs": [
    {
     "name": "stdout",
     "output_type": "stream",
     "text": [
      "(5, 5)\n",
      "(5, 5)\n",
      "(5, 5)\n",
      "(5, 5)\n",
      "(5, 5)\n",
      "(5, 5)\n",
      "(5, 5)\n",
      "(5, 5)\n",
      "(5, 5)\n"
     ]
    }
   ],
   "source": [
    "for i in range(1,10):\n",
    "    print(data_resized[i].shape)"
   ]
  },
  {
   "cell_type": "code",
   "execution_count": 23,
   "metadata": {},
   "outputs": [
    {
     "data": {
      "text/plain": [
       "array([[  0,   0, 255,   0,   0],\n",
       "       [  0, 255, 128, 255,   0],\n",
       "       [204,  51,   0,  51, 204],\n",
       "       [255,   0, 255,   0, 255],\n",
       "       [ 51, 229, 255, 153, 204]], dtype=uint8)"
      ]
     },
     "execution_count": 23,
     "metadata": {},
     "output_type": "execute_result"
    }
   ],
   "source": [
    "data_resized[1]"
   ]
  },
  {
   "cell_type": "code",
   "execution_count": 25,
   "metadata": {},
   "outputs": [
    {
     "data": {
      "image/png": "[encoded data removed]",
      "text/plain": [
       "<matplotlib.figure.Figure at 0x1f45f4b2710>"
      ]
     },
     "metadata": {},
     "output_type": "display_data"
    }
   ],
   "source": [
    "plt.figure(figsize = (2,2) )\n",
    "plt.axis('off')\n",
    "plt.imshow(data_resized[1],cmap= matplotlib.cm.Greys)\n",
    "plt.show()\n"
   ]
  },
  {
   "cell_type": "code",
   "execution_count": 28,
   "metadata": {},
   "outputs": [
    {
     "data": {
      "text/plain": [
       "array([[0.        , 0.        , 1.        , 0.        , 0.        ],\n",
       "       [0.        , 1.        , 0.50196078, 1.        , 0.        ],\n",
       "       [0.8       , 0.2       , 0.        , 0.2       , 0.8       ],\n",
       "       [1.        , 0.        , 1.        , 0.        , 1.        ],\n",
       "       [0.2       , 0.89803922, 1.        , 0.6       , 0.8       ]])"
      ]
     },
     "execution_count": 28,
     "metadata": {},
     "output_type": "execute_result"
    }
   ],
   "source": [
    "data_norm = data_resized/255\n",
    "data_norm[1]"
   ]
  },
  {
   "cell_type": "code",
   "execution_count": null,
   "metadata": {},
   "outputs": [],
   "source": [
    "plt.figure(figsize = (2,2) )\n",
    "plt.axis('off')\n",
    "plt.imshow(data_resized[1],cmap= matplotlib.cm.Greys)\n",
    "plt.show()"
   ]
  },
  {
   "cell_type": "code",
   "execution_count": 31,
   "metadata": {},
   "outputs": [
    {
     "data": {
      "image/png": "[encoded data removed]",
      "text/plain": [
       "<matplotlib.figure.Figure at 0x1f45e4707b8>"
      ]
     },
     "metadata": {},
     "output_type": "display_data"
    }
   ],
   "source": [
    "plt.figure(figsize = (2,2) )\n",
    "plt.axis('off')\n",
    "plt.imshow(data_norm[1],cmap= matplotlib.cm.Greys)\n",
    "plt.show()"
   ]
  },
  {
   "cell_type": "code",
   "execution_count": 33,
   "metadata": {},
   "outputs": [
    {
     "data": {
      "text/plain": [
       "(60000, 5, 5)"
      ]
     },
     "execution_count": 33,
     "metadata": {},
     "output_type": "execute_result"
    }
   ],
   "source": [
    "data_norm.shape"
   ]
  },
  {
   "cell_type": "code",
   "execution_count": 34,
   "metadata": {},
   "outputs": [
    {
     "data": {
      "text/plain": [
       "(60000, 25)"
      ]
     },
     "execution_count": 34,
     "metadata": {},
     "output_type": "execute_result"
    }
   ],
   "source": [
    "data_norm = data_norm.reshape(60000,25)\n",
    "data_norm.shape"
   ]
  },
  {
   "cell_type": "code",
   "execution_count": 57,
   "metadata": {},
   "outputs": [],
   "source": [
    "from sklearn.cross_validation import train_test_split\n",
    "X_train, X_test, y_train, y_test  = train_test_split(data_norm,labels)"
   ]
  },
  {
   "cell_type": "code",
   "execution_count": 58,
   "metadata": {},
   "outputs": [
    {
     "data": {
      "text/plain": [
       "(15000,)"
      ]
     },
     "execution_count": 58,
     "metadata": {},
     "output_type": "execute_result"
    }
   ],
   "source": [
    "y_test.shape"
   ]
  },
  {
   "cell_type": "code",
   "execution_count": 59,
   "metadata": {},
   "outputs": [],
   "source": [
    "n_classes = 10\n",
    "y_train_cat = keras.utils.to_categorical(y_train, n_classes)\n",
    "y_test_cat = keras.utils.to_categorical(y_test,n_classes)"
   ]
  },
  {
   "cell_type": "code",
   "execution_count": 60,
   "metadata": {},
   "outputs": [
    {
     "data": {
      "text/plain": [
       "array([1., 0., 0., 0., 0., 0., 0., 0., 0., 0.])"
      ]
     },
     "execution_count": 60,
     "metadata": {},
     "output_type": "execute_result"
    }
   ],
   "source": [
    "y_train_cat[1]"
   ]
  },
  {
   "cell_type": "code",
   "execution_count": 62,
   "metadata": {},
   "outputs": [
    {
     "data": {
      "text/plain": [
       "(45000, 10)"
      ]
     },
     "execution_count": 62,
     "metadata": {},
     "output_type": "execute_result"
    }
   ],
   "source": [
    "y_train_cat.shape"
   ]
  },
  {
   "cell_type": "code",
   "execution_count": 38,
   "metadata": {},
   "outputs": [
    {
     "name": "stdout",
     "output_type": "stream",
     "text": [
      "size of training dataset is: (45000, 25)\n",
      "size of test dataset is: (15000, 25)\n"
     ]
    }
   ],
   "source": [
    "print(\"size of training dataset is: \" +  str(X_train.shape))\n",
    "print(\"size of test dataset is: \" +  str(X_test.shape))"
   ]
  },
  {
   "cell_type": "code",
   "execution_count": 69,
   "metadata": {},
   "outputs": [],
   "source": [
    "import keras\n",
    "from keras.models import Sequential\n",
    "from keras.layers import Dense\n",
    "from keras.optimizers import SGD"
   ]
  },
  {
   "cell_type": "code",
   "execution_count": 70,
   "metadata": {},
   "outputs": [],
   "source": [
    "model = Sequential()\n",
    "model.add(Dense(50,activation = 'sigmoid', input_shape = (25,)))\n",
    "model.add(Dense(50,activation = 'sigmoid'))\n",
    "model.add(Dense(50,activation = 'sigmoid'))\n",
    "model.add(Dense(10, activation='softmax'))"
   ]
  },
  {
   "cell_type": "code",
   "execution_count": 71,
   "metadata": {},
   "outputs": [],
   "source": [
    "model.compile(loss = 'categorical_crossentropy',optimizer='adam', metrics=['accuracy'])\n"
   ]
  },
  {
   "cell_type": "code",
   "execution_count": 72,
   "metadata": {},
   "outputs": [
    {
     "name": "stdout",
     "output_type": "stream",
     "text": [
      "Epoch 1/100\n",
      "45000/45000 [==============================] - 1s 18us/step - loss: 2.2838 - acc: 0.1876\n",
      "Epoch 2/100\n",
      "45000/45000 [==============================] - 1s 11us/step - loss: 1.9674 - acc: 0.5026\n",
      "Epoch 3/100\n",
      "45000/45000 [==============================] - 0s 10us/step - loss: 1.3649 - acc: 0.5992\n",
      "Epoch 4/100\n",
      "45000/45000 [==============================] - 1s 11us/step - loss: 1.1067 - acc: 0.6785\n",
      "Epoch 5/100\n",
      "45000/45000 [==============================] - 1s 12us/step - loss: 0.9156 - acc: 0.7428\n",
      "Epoch 6/100\n",
      "45000/45000 [==============================] - 0s 10us/step - loss: 0.7535 - acc: 0.7798\n",
      "Epoch 7/100\n",
      "45000/45000 [==============================] - 0s 9us/step - loss: 0.6319 - acc: 0.8132\n",
      "Epoch 8/100\n",
      "45000/45000 [==============================] - 0s 9us/step - loss: 0.5415 - acc: 0.8362\n",
      "Epoch 9/100\n",
      "45000/45000 [==============================] - 0s 10us/step - loss: 0.4767 - acc: 0.8538\n",
      "Epoch 10/100\n",
      "45000/45000 [==============================] - 1s 11us/step - loss: 0.4312 - acc: 0.8669\n",
      "Epoch 11/100\n",
      "45000/45000 [==============================] - 1s 12us/step - loss: 0.3984 - acc: 0.8755\n",
      "Epoch 12/100\n",
      "45000/45000 [==============================] - 1s 12us/step - loss: 0.3740 - acc: 0.8814\n",
      "Epoch 13/100\n",
      "45000/45000 [==============================] - 0s 10us/step - loss: 0.3548 - acc: 0.8866\n",
      "Epoch 14/100\n",
      "45000/45000 [==============================] - 1s 12us/step - loss: 0.3389 - acc: 0.8906\n",
      "Epoch 15/100\n",
      "45000/45000 [==============================] - 0s 11us/step - loss: 0.3246 - acc: 0.8950\n",
      "Epoch 16/100\n",
      "45000/45000 [==============================] - 1s 11us/step - loss: 0.3127 - acc: 0.8995\n",
      "Epoch 17/100\n",
      "45000/45000 [==============================] - 0s 11us/step - loss: 0.3024 - acc: 0.9030\n",
      "Epoch 18/100\n",
      "45000/45000 [==============================] - 0s 10us/step - loss: 0.2931 - acc: 0.9063\n",
      "Epoch 19/100\n",
      "45000/45000 [==============================] - 0s 10us/step - loss: 0.2851 - acc: 0.9086\n",
      "Epoch 20/100\n",
      "45000/45000 [==============================] - 0s 11us/step - loss: 0.2774 - acc: 0.9112\n",
      "Epoch 21/100\n",
      "45000/45000 [==============================] - 0s 9us/step - loss: 0.2710 - acc: 0.9134\n",
      "Epoch 22/100\n",
      "45000/45000 [==============================] - 0s 9us/step - loss: 0.2644 - acc: 0.9162\n",
      "Epoch 23/100\n",
      "45000/45000 [==============================] - 0s 10us/step - loss: 0.2592 - acc: 0.9168\n",
      "Epoch 24/100\n",
      "45000/45000 [==============================] - 0s 10us/step - loss: 0.2548 - acc: 0.9181\n",
      "Epoch 25/100\n",
      "45000/45000 [==============================] - 0s 10us/step - loss: 0.2499 - acc: 0.9194\n",
      "Epoch 26/100\n",
      "45000/45000 [==============================] - 0s 9us/step - loss: 0.2457 - acc: 0.9213\n",
      "Epoch 27/100\n",
      "45000/45000 [==============================] - 0s 10us/step - loss: 0.2419 - acc: 0.9222\n",
      "Epoch 28/100\n",
      "45000/45000 [==============================] - 0s 9us/step - loss: 0.2383 - acc: 0.9236\n",
      "Epoch 29/100\n",
      "45000/45000 [==============================] - 0s 9us/step - loss: 0.2345 - acc: 0.9248\n",
      "Epoch 30/100\n",
      "45000/45000 [==============================] - 0s 10us/step - loss: 0.2314 - acc: 0.9254\n",
      "Epoch 31/100\n",
      "45000/45000 [==============================] - 0s 11us/step - loss: 0.2282 - acc: 0.9267\n",
      "Epoch 32/100\n",
      "45000/45000 [==============================] - 1s 12us/step - loss: 0.2257 - acc: 0.9280\n",
      "Epoch 33/100\n",
      "45000/45000 [==============================] - 0s 9us/step - loss: 0.2229 - acc: 0.9290\n",
      "Epoch 34/100\n",
      "45000/45000 [==============================] - 0s 10us/step - loss: 0.2197 - acc: 0.9293\n",
      "Epoch 35/100\n",
      "45000/45000 [==============================] - 0s 9us/step - loss: 0.2174 - acc: 0.9300\n",
      "Epoch 36/100\n",
      "45000/45000 [==============================] - 0s 10us/step - loss: 0.2150 - acc: 0.9309\n",
      "Epoch 37/100\n",
      "45000/45000 [==============================] - 0s 9us/step - loss: 0.2132 - acc: 0.9303\n",
      "Epoch 38/100\n",
      "45000/45000 [==============================] - 0s 9us/step - loss: 0.2098 - acc: 0.9325\n",
      "Epoch 39/100\n",
      "45000/45000 [==============================] - 0s 10us/step - loss: 0.2080 - acc: 0.9321\n",
      "Epoch 40/100\n",
      "45000/45000 [==============================] - 0s 9us/step - loss: 0.2055 - acc: 0.9339\n",
      "Epoch 41/100\n",
      "45000/45000 [==============================] - 0s 10us/step - loss: 0.2029 - acc: 0.9342\n",
      "Epoch 42/100\n",
      "45000/45000 [==============================] - 0s 9us/step - loss: 0.2013 - acc: 0.9346\n",
      "Epoch 43/100\n",
      "45000/45000 [==============================] - 0s 10us/step - loss: 0.1994 - acc: 0.9350\n",
      "Epoch 44/100\n",
      "45000/45000 [==============================] - 0s 9us/step - loss: 0.1965 - acc: 0.9358\n",
      "Epoch 45/100\n",
      "45000/45000 [==============================] - 0s 9us/step - loss: 0.1949 - acc: 0.9363\n",
      "Epoch 46/100\n",
      "45000/45000 [==============================] - 0s 10us/step - loss: 0.1931 - acc: 0.9366\n",
      "Epoch 47/100\n",
      "45000/45000 [==============================] - 0s 11us/step - loss: 0.1912 - acc: 0.9379\n",
      "Epoch 48/100\n",
      "45000/45000 [==============================] - 0s 10us/step - loss: 0.1900 - acc: 0.9381\n",
      "Epoch 49/100\n",
      "45000/45000 [==============================] - 0s 9us/step - loss: 0.1874 - acc: 0.9381\n",
      "Epoch 50/100\n",
      "45000/45000 [==============================] - 0s 9us/step - loss: 0.1860 - acc: 0.9386\n",
      "Epoch 51/100\n",
      "45000/45000 [==============================] - 0s 9us/step - loss: 0.1839 - acc: 0.9393\n",
      "Epoch 52/100\n",
      "45000/45000 [==============================] - 0s 9us/step - loss: 0.1823 - acc: 0.9404\n",
      "Epoch 53/100\n",
      "45000/45000 [==============================] - 0s 9us/step - loss: 0.1811 - acc: 0.9404\n",
      "Epoch 54/100\n",
      "45000/45000 [==============================] - 0s 9us/step - loss: 0.1797 - acc: 0.9410\n",
      "Epoch 55/100\n",
      "45000/45000 [==============================] - 0s 11us/step - loss: 0.1776 - acc: 0.9418\n",
      "Epoch 56/100\n",
      "45000/45000 [==============================] - 0s 9us/step - loss: 0.1764 - acc: 0.9417\n",
      "Epoch 57/100\n",
      "45000/45000 [==============================] - 0s 9us/step - loss: 0.1747 - acc: 0.9426\n",
      "Epoch 58/100\n",
      "45000/45000 [==============================] - 0s 9us/step - loss: 0.1740 - acc: 0.9428\n",
      "Epoch 59/100\n",
      "45000/45000 [==============================] - 0s 9us/step - loss: 0.1729 - acc: 0.9431\n",
      "Epoch 60/100\n",
      "45000/45000 [==============================] - 0s 9us/step - loss: 0.1710 - acc: 0.9429\n",
      "Epoch 61/100\n",
      "45000/45000 [==============================] - 0s 10us/step - loss: 0.1696 - acc: 0.9436\n",
      "Epoch 62/100\n",
      "45000/45000 [==============================] - 1s 12us/step - loss: 0.1680 - acc: 0.9450\n",
      "Epoch 63/100\n",
      "45000/45000 [==============================] - 1s 12us/step - loss: 0.1671 - acc: 0.9445\n",
      "Epoch 64/100\n",
      "45000/45000 [==============================] - 1s 12us/step - loss: 0.1657 - acc: 0.9452\n",
      "Epoch 65/100\n",
      "45000/45000 [==============================] - 0s 10us/step - loss: 0.1649 - acc: 0.9452\n",
      "Epoch 66/100\n",
      "45000/45000 [==============================] - 0s 11us/step - loss: 0.1637 - acc: 0.9456\n",
      "Epoch 67/100\n",
      "45000/45000 [==============================] - 1s 12us/step - loss: 0.1626 - acc: 0.9458\n",
      "Epoch 68/100\n",
      "45000/45000 [==============================] - 1s 11us/step - loss: 0.1615 - acc: 0.9469\n",
      "Epoch 69/100\n",
      "45000/45000 [==============================] - 0s 10us/step - loss: 0.1603 - acc: 0.9467\n",
      "Epoch 70/100\n",
      "45000/45000 [==============================] - 1s 12us/step - loss: 0.1596 - acc: 0.9470\n",
      "Epoch 71/100\n",
      "45000/45000 [==============================] - 1s 12us/step - loss: 0.1587 - acc: 0.9471\n",
      "Epoch 72/100\n",
      "45000/45000 [==============================] - 0s 10us/step - loss: 0.1574 - acc: 0.9479\n",
      "Epoch 73/100\n",
      "45000/45000 [==============================] - 0s 9us/step - loss: 0.1570 - acc: 0.9485\n",
      "Epoch 74/100\n",
      "45000/45000 [==============================] - 0s 9us/step - loss: 0.1561 - acc: 0.9484\n",
      "Epoch 75/100\n",
      "45000/45000 [==============================] - 0s 9us/step - loss: 0.1546 - acc: 0.9488\n",
      "Epoch 76/100\n",
      "45000/45000 [==============================] - 0s 9us/step - loss: 0.1544 - acc: 0.9485\n",
      "Epoch 77/100\n",
      "45000/45000 [==============================] - 0s 9us/step - loss: 0.1547 - acc: 0.9481\n",
      "Epoch 78/100\n",
      "45000/45000 [==============================] - 0s 9us/step - loss: 0.1529 - acc: 0.9495\n",
      "Epoch 79/100\n",
      "45000/45000 [==============================] - 0s 9us/step - loss: 0.1516 - acc: 0.9489\n",
      "Epoch 80/100\n",
      "45000/45000 [==============================] - 0s 9us/step - loss: 0.1512 - acc: 0.9496\n",
      "Epoch 81/100\n",
      "45000/45000 [==============================] - 0s 9us/step - loss: 0.1501 - acc: 0.9499\n",
      "Epoch 82/100\n",
      "45000/45000 [==============================] - 0s 9us/step - loss: 0.1495 - acc: 0.9506\n",
      "Epoch 83/100\n",
      "45000/45000 [==============================] - 0s 9us/step - loss: 0.1489 - acc: 0.9508\n",
      "Epoch 84/100\n",
      "45000/45000 [==============================] - 0s 9us/step - loss: 0.1482 - acc: 0.9509\n",
      "Epoch 85/100\n",
      "45000/45000 [==============================] - 0s 9us/step - loss: 0.1475 - acc: 0.9504\n",
      "Epoch 86/100\n",
      "45000/45000 [==============================] - 0s 9us/step - loss: 0.1468 - acc: 0.9509\n",
      "Epoch 87/100\n",
      "45000/45000 [==============================] - 0s 9us/step - loss: 0.1458 - acc: 0.9508\n",
      "Epoch 88/100\n",
      "45000/45000 [==============================] - 0s 9us/step - loss: 0.1456 - acc: 0.9515\n",
      "Epoch 89/100\n",
      "45000/45000 [==============================] - 0s 9us/step - loss: 0.1447 - acc: 0.9516\n",
      "Epoch 90/100\n",
      "45000/45000 [==============================] - 0s 9us/step - loss: 0.1443 - acc: 0.9516\n",
      "Epoch 91/100\n",
      "45000/45000 [==============================] - 0s 9us/step - loss: 0.1431 - acc: 0.9519\n",
      "Epoch 92/100\n",
      "45000/45000 [==============================] - 0s 9us/step - loss: 0.1429 - acc: 0.9521\n",
      "Epoch 93/100\n",
      "45000/45000 [==============================] - 0s 9us/step - loss: 0.1423 - acc: 0.9522\n",
      "Epoch 94/100\n",
      "45000/45000 [==============================] - 0s 9us/step - loss: 0.1420 - acc: 0.9525\n",
      "Epoch 95/100\n",
      "45000/45000 [==============================] - 0s 9us/step - loss: 0.1423 - acc: 0.9526\n",
      "Epoch 96/100\n",
      "45000/45000 [==============================] - 0s 9us/step - loss: 0.1413 - acc: 0.9524\n",
      "Epoch 97/100\n",
      "45000/45000 [==============================] - 0s 9us/step - loss: 0.1396 - acc: 0.9527\n",
      "Epoch 98/100\n",
      "45000/45000 [==============================] - 0s 9us/step - loss: 0.1398 - acc: 0.9534\n",
      "Epoch 99/100\n",
      "45000/45000 [==============================] - 0s 9us/step - loss: 0.1394 - acc: 0.9534\n",
      "Epoch 100/100\n",
      "45000/45000 [==============================] - 0s 10us/step - loss: 0.1385 - acc: 0.9530\n"
     ]
    },
    {
     "data": {
      "text/plain": [
       "<keras.callbacks.History at 0x1f400a7e8d0>"
      ]
     },
     "execution_count": 72,
     "metadata": {},
     "output_type": "execute_result"
    }
   ],
   "source": [
    "model.fit(X_train,y_train_cat, batch_size = 512, epochs=100,verbose = 1)"
   ]
  },
  {
   "cell_type": "code",
   "execution_count": 67,
   "metadata": {},
   "outputs": [
    {
     "name": "stdout",
     "output_type": "stream",
     "text": [
      "15000/15000 [==============================] - 0s 31us/step\n"
     ]
    },
    {
     "data": {
      "text/plain": [
       "[0.14266455941200257, 0.9506000000317891]"
      ]
     },
     "execution_count": 67,
     "metadata": {},
     "output_type": "execute_result"
    }
   ],
   "source": [
    "model.evaluate(X_test,y_test_cat)"
   ]
  },
  {
   "cell_type": "code",
   "execution_count": 78,
   "metadata": {},
   "outputs": [],
   "source": [
    "preds = model.predict_classes(X_test)"
   ]
  },
  {
   "cell_type": "code",
   "execution_count": 74,
   "metadata": {},
   "outputs": [
    {
     "data": {
      "text/plain": [
       "array([5, 8, 1, ..., 9, 1, 9], dtype=int64)"
      ]
     },
     "execution_count": 74,
     "metadata": {},
     "output_type": "execute_result"
    }
   ],
   "source": [
    "pred"
   ]
  },
  {
   "cell_type": "code",
   "execution_count": 75,
   "metadata": {},
   "outputs": [
    {
     "data": {
      "text/plain": [
       "array([5, 8, 1, ..., 8, 1, 9], dtype=uint8)"
      ]
     },
     "execution_count": 75,
     "metadata": {},
     "output_type": "execute_result"
    }
   ],
   "source": [
    "y_test"
   ]
  },
  {
   "cell_type": "code",
   "execution_count": 79,
   "metadata": {},
   "outputs": [],
   "source": [
    "model = Sequential()\n",
    "model.add(Dense(50,activation = 'relu', input_shape = (25,)))\n",
    "model.add(Dense(50,activation = 'relu'))\n",
    "model.add(Dense(50,activation = 'relu'))\n",
    "model.add(Dense(10, activation='softmax'))\n",
    "\n"
   ]
  },
  {
   "cell_type": "code",
   "execution_count": 80,
   "metadata": {},
   "outputs": [],
   "source": [
    "model.compile(loss = 'categorical_crossentropy',optimizer='adam', metrics=['accuracy'])"
   ]
  },
  {
   "cell_type": "code",
   "execution_count": 81,
   "metadata": {},
   "outputs": [
    {
     "name": "stdout",
     "output_type": "stream",
     "text": [
      "Epoch 1/100\n",
      "45000/45000 [==============================] - 1s 22us/step - loss: 1.3357 - acc: 0.6196\n",
      "Epoch 2/100\n",
      "45000/45000 [==============================] - 0s 10us/step - loss: 0.3556 - acc: 0.8860\n",
      "Epoch 3/100\n",
      "45000/45000 [==============================] - 0s 11us/step - loss: 0.2684 - acc: 0.9137\n",
      "Epoch 4/100\n",
      "45000/45000 [==============================] - 1s 12us/step - loss: 0.2394 - acc: 0.9220\n",
      "Epoch 5/100\n",
      "45000/45000 [==============================] - 0s 9us/step - loss: 0.2209 - acc: 0.9276\n",
      "Epoch 6/100\n",
      "45000/45000 [==============================] - 0s 9us/step - loss: 0.2071 - acc: 0.9322\n",
      "Epoch 7/100\n",
      "45000/45000 [==============================] - 0s 10us/step - loss: 0.1959 - acc: 0.9356\n",
      "Epoch 8/100\n",
      "45000/45000 [==============================] - 1s 14us/step - loss: 0.1875 - acc: 0.9386\n",
      "Epoch 9/100\n",
      "45000/45000 [==============================] - 1s 12us/step - loss: 0.1794 - acc: 0.9407\n",
      "Epoch 10/100\n",
      "45000/45000 [==============================] - 0s 9us/step - loss: 0.1766 - acc: 0.9412\n",
      "Epoch 11/100\n",
      "45000/45000 [==============================] - 0s 10us/step - loss: 0.1692 - acc: 0.9444\n",
      "Epoch 12/100\n",
      "45000/45000 [==============================] - 0s 9us/step - loss: 0.1659 - acc: 0.9444\n",
      "Epoch 13/100\n",
      "45000/45000 [==============================] - 0s 9us/step - loss: 0.1607 - acc: 0.9462\n",
      "Epoch 14/100\n",
      "45000/45000 [==============================] - 0s 9us/step - loss: 0.1576 - acc: 0.9470\n",
      "Epoch 15/100\n",
      "45000/45000 [==============================] - 0s 9us/step - loss: 0.1540 - acc: 0.9483\n",
      "Epoch 16/100\n",
      "45000/45000 [==============================] - 0s 9us/step - loss: 0.1507 - acc: 0.9494\n",
      "Epoch 17/100\n",
      "45000/45000 [==============================] - 0s 9us/step - loss: 0.1481 - acc: 0.9507\n",
      "Epoch 18/100\n",
      "45000/45000 [==============================] - 0s 9us/step - loss: 0.1472 - acc: 0.9505\n",
      "Epoch 19/100\n",
      "45000/45000 [==============================] - 0s 9us/step - loss: 0.1441 - acc: 0.9515\n",
      "Epoch 20/100\n",
      "45000/45000 [==============================] - 0s 9us/step - loss: 0.1421 - acc: 0.9522\n",
      "Epoch 21/100\n",
      "45000/45000 [==============================] - 0s 9us/step - loss: 0.1413 - acc: 0.9530\n",
      "Epoch 22/100\n",
      "45000/45000 [==============================] - 0s 9us/step - loss: 0.1391 - acc: 0.9538\n",
      "Epoch 23/100\n",
      "45000/45000 [==============================] - 0s 9us/step - loss: 0.1377 - acc: 0.9534\n",
      "Epoch 24/100\n",
      "45000/45000 [==============================] - 0s 9us/step - loss: 0.1354 - acc: 0.9541\n",
      "Epoch 25/100\n",
      "45000/45000 [==============================] - 0s 9us/step - loss: 0.1359 - acc: 0.9534\n",
      "Epoch 26/100\n",
      "45000/45000 [==============================] - 0s 9us/step - loss: 0.1332 - acc: 0.9547\n",
      "Epoch 27/100\n",
      "45000/45000 [==============================] - 0s 10us/step - loss: 0.1319 - acc: 0.9562\n",
      "Epoch 28/100\n",
      "45000/45000 [==============================] - 0s 10us/step - loss: 0.1318 - acc: 0.9552\n",
      "Epoch 29/100\n",
      "45000/45000 [==============================] - 0s 10us/step - loss: 0.1286 - acc: 0.9567\n",
      "Epoch 30/100\n",
      "45000/45000 [==============================] - 1s 13us/step - loss: 0.1282 - acc: 0.9558\n",
      "Epoch 31/100\n",
      "45000/45000 [==============================] - 1s 11us/step - loss: 0.1269 - acc: 0.9568\n",
      "Epoch 32/100\n",
      "45000/45000 [==============================] - 1s 14us/step - loss: 0.1267 - acc: 0.9567\n",
      "Epoch 33/100\n",
      "45000/45000 [==============================] - 1s 12us/step - loss: 0.1239 - acc: 0.9580\n",
      "Epoch 34/100\n",
      "45000/45000 [==============================] - 0s 10us/step - loss: 0.1237 - acc: 0.9588\n",
      "Epoch 35/100\n",
      "45000/45000 [==============================] - 1s 12us/step - loss: 0.1243 - acc: 0.9573\n",
      "Epoch 36/100\n",
      "45000/45000 [==============================] - 1s 12us/step - loss: 0.1216 - acc: 0.9589\n",
      "Epoch 37/100\n",
      "45000/45000 [==============================] - 1s 12us/step - loss: 0.1207 - acc: 0.9590\n",
      "Epoch 38/100\n",
      "45000/45000 [==============================] - 1s 12us/step - loss: 0.1198 - acc: 0.9591\n",
      "Epoch 39/100\n",
      "45000/45000 [==============================] - 1s 13us/step - loss: 0.1192 - acc: 0.9593\n",
      "Epoch 40/100\n",
      "45000/45000 [==============================] - 1s 12us/step - loss: 0.1176 - acc: 0.9602\n",
      "Epoch 41/100\n",
      "45000/45000 [==============================] - 1s 12us/step - loss: 0.1185 - acc: 0.9589\n",
      "Epoch 42/100\n",
      "45000/45000 [==============================] - 1s 13us/step - loss: 0.1168 - acc: 0.9604\n",
      "Epoch 43/100\n",
      "45000/45000 [==============================] - 1s 12us/step - loss: 0.1166 - acc: 0.9602\n",
      "Epoch 44/100\n",
      "45000/45000 [==============================] - 1s 12us/step - loss: 0.1158 - acc: 0.9605\n",
      "Epoch 45/100\n",
      "45000/45000 [==============================] - 1s 11us/step - loss: 0.1156 - acc: 0.9605\n",
      "Epoch 46/100\n",
      "45000/45000 [==============================] - 1s 15us/step - loss: 0.1152 - acc: 0.9605\n",
      "Epoch 47/100\n",
      "45000/45000 [==============================] - 1s 13us/step - loss: 0.1136 - acc: 0.9616\n",
      "Epoch 48/100\n",
      "45000/45000 [==============================] - 1s 14us/step - loss: 0.1130 - acc: 0.9614\n",
      "Epoch 49/100\n",
      "45000/45000 [==============================] - 1s 16us/step - loss: 0.1132 - acc: 0.9611\n",
      "Epoch 50/100\n",
      "45000/45000 [==============================] - 1s 14us/step - loss: 0.1123 - acc: 0.9615\n",
      "Epoch 51/100\n",
      "45000/45000 [==============================] - 1s 13us/step - loss: 0.1115 - acc: 0.9623\n",
      "Epoch 52/100\n",
      "45000/45000 [==============================] - 1s 14us/step - loss: 0.1107 - acc: 0.9622\n",
      "Epoch 53/100\n",
      "45000/45000 [==============================] - 1s 12us/step - loss: 0.1101 - acc: 0.9625\n",
      "Epoch 54/100\n",
      "45000/45000 [==============================] - 1s 12us/step - loss: 0.1102 - acc: 0.9626\n",
      "Epoch 55/100\n",
      "45000/45000 [==============================] - 1s 11us/step - loss: 0.1096 - acc: 0.9624\n",
      "Epoch 56/100\n",
      "45000/45000 [==============================] - 1s 13us/step - loss: 0.1080 - acc: 0.9631\n",
      "Epoch 57/100\n",
      "45000/45000 [==============================] - 1s 14us/step - loss: 0.1087 - acc: 0.9629\n",
      "Epoch 58/100\n",
      "45000/45000 [==============================] - 1s 14us/step - loss: 0.1076 - acc: 0.9622\n",
      "Epoch 59/100\n",
      "45000/45000 [==============================] - 1s 15us/step - loss: 0.1074 - acc: 0.9629\n",
      "Epoch 60/100\n",
      "45000/45000 [==============================] - 1s 16us/step - loss: 0.1056 - acc: 0.9635\n",
      "Epoch 61/100\n",
      "45000/45000 [==============================] - 1s 15us/step - loss: 0.1078 - acc: 0.9634\n",
      "Epoch 62/100\n",
      "45000/45000 [==============================] - 1s 15us/step - loss: 0.1047 - acc: 0.9639\n",
      "Epoch 63/100\n",
      "45000/45000 [==============================] - 1s 15us/step - loss: 0.1069 - acc: 0.9626\n",
      "Epoch 64/100\n",
      "45000/45000 [==============================] - 1s 15us/step - loss: 0.1039 - acc: 0.9638\n",
      "Epoch 65/100\n",
      "45000/45000 [==============================] - 1s 14us/step - loss: 0.1038 - acc: 0.9648\n",
      "Epoch 66/100\n",
      "45000/45000 [==============================] - 1s 14us/step - loss: 0.1038 - acc: 0.9642\n",
      "Epoch 67/100\n",
      "45000/45000 [==============================] - 1s 13us/step - loss: 0.1032 - acc: 0.9646\n",
      "Epoch 68/100\n",
      "45000/45000 [==============================] - 1s 12us/step - loss: 0.1023 - acc: 0.9647\n",
      "Epoch 69/100\n",
      "45000/45000 [==============================] - 1s 12us/step - loss: 0.1027 - acc: 0.9646\n",
      "Epoch 70/100\n",
      "45000/45000 [==============================] - 1s 12us/step - loss: 0.1031 - acc: 0.9634\n",
      "Epoch 71/100\n",
      "45000/45000 [==============================] - 1s 12us/step - loss: 0.1023 - acc: 0.9643\n",
      "Epoch 72/100\n",
      "45000/45000 [==============================] - 1s 12us/step - loss: 0.1034 - acc: 0.9638\n",
      "Epoch 73/100\n",
      "45000/45000 [==============================] - 1s 11us/step - loss: 0.1009 - acc: 0.9648\n",
      "Epoch 74/100\n",
      "45000/45000 [==============================] - 1s 11us/step - loss: 0.1012 - acc: 0.9647: 0s - loss: 0.1009 - acc: 0\n",
      "Epoch 75/100\n",
      "45000/45000 [==============================] - 1s 13us/step - loss: 0.1002 - acc: 0.9648\n",
      "Epoch 76/100\n",
      "45000/45000 [==============================] - 1s 12us/step - loss: 0.0990 - acc: 0.9656\n",
      "Epoch 77/100\n",
      "45000/45000 [==============================] - 1s 12us/step - loss: 0.1004 - acc: 0.9649\n",
      "Epoch 78/100\n",
      "45000/45000 [==============================] - 0s 11us/step - loss: 0.0990 - acc: 0.9656\n",
      "Epoch 79/100\n",
      "45000/45000 [==============================] - 1s 12us/step - loss: 0.0989 - acc: 0.9657\n",
      "Epoch 80/100\n",
      "45000/45000 [==============================] - 1s 13us/step - loss: 0.0986 - acc: 0.9654\n",
      "Epoch 81/100\n",
      "45000/45000 [==============================] - 1s 14us/step - loss: 0.0980 - acc: 0.9658\n",
      "Epoch 82/100\n",
      "45000/45000 [==============================] - 1s 14us/step - loss: 0.0966 - acc: 0.9662\n",
      "Epoch 83/100\n",
      "45000/45000 [==============================] - 1s 14us/step - loss: 0.0976 - acc: 0.9661\n",
      "Epoch 84/100\n",
      "45000/45000 [==============================] - 1s 14us/step - loss: 0.0982 - acc: 0.9654\n",
      "Epoch 85/100\n",
      "45000/45000 [==============================] - 1s 14us/step - loss: 0.0978 - acc: 0.9661\n",
      "Epoch 86/100\n",
      "45000/45000 [==============================] - 1s 14us/step - loss: 0.0967 - acc: 0.9662\n",
      "Epoch 87/100\n",
      "45000/45000 [==============================] - 1s 14us/step - loss: 0.0948 - acc: 0.9668\n",
      "Epoch 88/100\n",
      "45000/45000 [==============================] - 1s 13us/step - loss: 0.0954 - acc: 0.9667\n",
      "Epoch 89/100\n",
      "45000/45000 [==============================] - 1s 16us/step - loss: 0.0959 - acc: 0.9670\n",
      "Epoch 90/100\n",
      "45000/45000 [==============================] - 1s 18us/step - loss: 0.0947 - acc: 0.9668\n",
      "Epoch 91/100\n",
      "45000/45000 [==============================] - 1s 22us/step - loss: 0.0943 - acc: 0.9673\n",
      "Epoch 92/100\n",
      "45000/45000 [==============================] - 1s 21us/step - loss: 0.0943 - acc: 0.9670\n",
      "Epoch 93/100\n",
      "45000/45000 [==============================] - 1s 17us/step - loss: 0.0933 - acc: 0.9678\n",
      "Epoch 94/100\n",
      "45000/45000 [==============================] - 1s 13us/step - loss: 0.0935 - acc: 0.9667\n",
      "Epoch 95/100\n",
      "45000/45000 [==============================] - 1s 13us/step - loss: 0.0936 - acc: 0.9670\n",
      "Epoch 96/100\n",
      "45000/45000 [==============================] - 1s 13us/step - loss: 0.0925 - acc: 0.9676\n",
      "Epoch 97/100\n",
      "45000/45000 [==============================] - 1s 13us/step - loss: 0.0943 - acc: 0.9666\n",
      "Epoch 98/100\n",
      "45000/45000 [==============================] - 1s 14us/step - loss: 0.0933 - acc: 0.9673\n",
      "Epoch 99/100\n",
      "45000/45000 [==============================] - 1s 14us/step - loss: 0.0930 - acc: 0.9674\n",
      "Epoch 100/100\n",
      "45000/45000 [==============================] - 1s 15us/step - loss: 0.0915 - acc: 0.9678\n"
     ]
    },
    {
     "data": {
      "text/plain": [
       "<keras.callbacks.History at 0x1f402f9cfd0>"
      ]
     },
     "execution_count": 81,
     "metadata": {},
     "output_type": "execute_result"
    }
   ],
   "source": [
    "model.fit(X_train,y_train_cat, batch_size = 512, epochs=100,verbose = 1)"
   ]
  }
 ],
 "metadata": {
  "kernelspec": {
   "display_name": "base",
   "language": "python",
   "name": "python3"
  },
  "language_info": {
   "codemirror_mode": {
    "name": "ipython",
    "version": 3
   },
   "file_extension": ".py",
   "mimetype": "text/x-python",
   "name": "python",
   "nbconvert_exporter": "python",
   "pygments_lexer": "ipython3",
   "version": "3.9.12 (main, Apr  5 2022, 01:53:17) \n[Clang 12.0.0 ]"
  },
  "vscode": {
   "interpreter": {
    "hash": "1a0c8ceae1f84d0a8f7a2d0cecceeb110243bd6d7aff9d7aa1db76759952e736"
   }
  }
 },
 "nbformat": 4,
 "nbformat_minor": 2
}
